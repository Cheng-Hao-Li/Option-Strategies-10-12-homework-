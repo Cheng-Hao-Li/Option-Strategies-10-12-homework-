{
 "cells": [
  {
   "cell_type": "code",
   "execution_count": 1,
   "metadata": {
    "collapsed": true
   },
   "outputs": [],
   "source": [
    "import numpy as nu"
   ]
  },
  {
   "cell_type": "code",
   "execution_count": 19,
   "metadata": {
    "collapsed": true
   },
   "outputs": [],
   "source": [
    "K1=9100\n",
    "K2=9200\n",
    "\n",
    "Premium_Call1=235\n",
    "Premium_Call2=168\n",
    "Premium_Put1=86\n",
    "Premium_Put2=118\n",
    "\n",
    "Interval=500\n",
    "ST=nu.arange(K1-Interval,K1+Interval)\n",
    "#ST"
   ]
  },
  {
   "cell_type": "code",
   "execution_count": 20,
   "metadata": {
    "collapsed": false
   },
   "outputs": [],
   "source": [
    "Payoff_LongCall1=nu.maximum(ST-K1,0)-Premium_Call1\n",
    "Payoff_ShortCall1=-Payoff_LongCall1\n",
    "Payoff_LongCall2=nu.maximum(ST-K2,0)-Premium_Call2\n",
    "Payoff_ShortCall2=-Payoff_LongCall2\n",
    "\n",
    "Payoff_LongPut1=nu.maximum(K1-ST,0)-Premium_Put1\n",
    "Payoff_ShortPut1=-Payoff_LongPut1\n",
    "Payoff_LongPut2=nu.maximum(K2-ST,0)-Premium_Put2\n",
    "Payoff_ShortPut2=-Payoff_LongPut2"
   ]
  },
  {
   "cell_type": "code",
   "execution_count": 21,
   "metadata": {
    "collapsed": true
   },
   "outputs": [],
   "source": [
    "import matplotlib.pyplot as plt"
   ]
  },
  {
   "cell_type": "code",
   "execution_count": 25,
   "metadata": {
    "collapsed": false
   },
   "outputs": [],
   "source": [
    "plt.plot(ST,Payoff_LongCall1)\n",
    "plt.plot(ST,Payoff_ShortCall1)\n",
    "plt.show()"
   ]
  },
  {
   "cell_type": "code",
   "execution_count": 26,
   "metadata": {
    "collapsed": true
   },
   "outputs": [],
   "source": [
    "plt.plot(ST,Payoff_LongPut1)\n",
    "plt.plot(ST,Payoff_ShortPut1)\n",
    "plt.show()"
   ]
  },
  {
   "cell_type": "code",
   "execution_count": 29,
   "metadata": {
    "collapsed": true
   },
   "outputs": [],
   "source": [
    "Payoff_LongStraddle=Payoff_LongCall1+Payoff_LongPut1"
   ]
  },
  {
   "cell_type": "code",
   "execution_count": 31,
   "metadata": {
    "collapsed": false
   },
   "outputs": [],
   "source": [
    "plt.plot(ST,Payoff_LongStraddle)\n",
    "plt.show()"
   ]
  },
  {
   "cell_type": "code",
   "execution_count": 32,
   "metadata": {
    "collapsed": true
   },
   "outputs": [],
   "source": [
    "Payoff_LongStrangle=Payoff_LongCall2+Payoff_LongPut1"
   ]
  },
  {
   "cell_type": "code",
   "execution_count": 33,
   "metadata": {
    "collapsed": true
   },
   "outputs": [],
   "source": [
    "plt.plot(ST,Payoff_LongStrangle)\n",
    "plt.show()"
   ]
  },
  {
   "cell_type": "code",
   "execution_count": 34,
   "metadata": {
    "collapsed": true
   },
   "outputs": [],
   "source": [
    "Payoff_LongSpread=Payoff_LongCall1+Payoff_ShortCall2"
   ]
  },
  {
   "cell_type": "code",
   "execution_count": 35,
   "metadata": {
    "collapsed": true
   },
   "outputs": [],
   "source": [
    "plt.plot(ST,Payoff_LongSpread)\n",
    "plt.show()"
   ]
  },
  {
   "cell_type": "code",
   "execution_count": null,
   "metadata": {
    "collapsed": true
   },
   "outputs": [],
   "source": []
  }
 ],
 "metadata": {
  "kernelspec": {
   "display_name": "Python [Root]",
   "language": "python",
   "name": "Python [Root]"
  },
  "language_info": {
   "codemirror_mode": {
    "name": "ipython",
    "version": 3
   },
   "file_extension": ".py",
   "mimetype": "text/x-python",
   "name": "python",
   "nbconvert_exporter": "python",
   "pygments_lexer": "ipython3",
   "version": "3.5.2"
  }
 },
 "nbformat": 4,
 "nbformat_minor": 0
}
